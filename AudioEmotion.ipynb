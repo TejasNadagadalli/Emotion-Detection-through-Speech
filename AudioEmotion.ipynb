{
  "nbformat": 4,
  "nbformat_minor": 0,
  "metadata": {
    "colab": {
      "provenance": [],
      "gpuType": "T4"
    },
    "kernelspec": {
      "name": "python3",
      "display_name": "Python 3"
    },
    "language_info": {
      "name": "python"
    },
    "accelerator": "GPU"
  },
  "cells": [
    {
      "cell_type": "code",
      "execution_count": null,
      "metadata": {
        "colab": {
          "base_uri": "https://localhost:8080/"
        },
        "id": "XhVAiOZqpwRl",
        "outputId": "d7e38c5e-3a6c-4638-c6aa-ed0f09631183"
      },
      "outputs": [
        {
          "output_type": "stream",
          "name": "stdout",
          "text": [
            "Mounted at /content/drive/\n"
          ]
        }
      ],
      "source": [
        "from google.colab import drive\n",
        "drive.mount('/content/drive/')"
      ]
    },
    {
      "cell_type": "code",
      "source": [
        "import pandas as pd\n",
        "import numpy as np\n",
        "import os\n",
        "import seaborn as sns\n",
        "import matplotlib.pyplot as plt\n",
        "import librosa\n",
        "import librosa.display\n",
        "from IPython.display import Audio\n",
        "import warnings\n",
        "warnings.filterwarnings('ignore')\n",
        "from sklearn.preprocessing import LabelEncoder\n",
        "from sklearn.model_selection import train_test_split\n",
        "from keras.models import Sequential\n",
        "from keras.layers import Dense, LSTM, Dropout, BatchNormalization\n"
      ],
      "metadata": {
        "id": "XQaPukSz5z-L"
      },
      "execution_count": null,
      "outputs": []
    },
    {
      "cell_type": "code",
      "source": [
        "tessData = '/content/drive/MyDrive/Tess'"
      ],
      "metadata": {
        "id": "IIzfm_7g51_2"
      },
      "execution_count": null,
      "outputs": []
    },
    {
      "cell_type": "markdown",
      "source": [
        "\n",
        "This code recursively traverses a directory (tessData), collects file paths and their corresponding labels (extracted from filenames), storing them in lists, until it reaches 2800 files, and then prints \"Dataset is Loaded\"."
      ],
      "metadata": {
        "id": "Llc9ICpIzxrM"
      }
    },
    {
      "cell_type": "code",
      "source": [
        "paths = []\n",
        "labels = []\n",
        "for dirname, _, filenames in os.walk(tessData):\n",
        "    for filename in filenames:\n",
        "        paths.append(os.path.join(dirname, filename))\n",
        "        label = filename.split('_')[-1]\n",
        "        label = label.split('.')[0]\n",
        "        labels.append(label.lower())\n",
        "    if len(paths) == 2800:\n",
        "        break\n",
        "\n",
        "print('Dataset is Loaded')"
      ],
      "metadata": {
        "colab": {
          "base_uri": "https://localhost:8080/"
        },
        "id": "37zqfIb56U9c",
        "outputId": "1be6c0a4-32fc-4581-f01a-95b3e0edd38a"
      },
      "execution_count": null,
      "outputs": [
        {
          "output_type": "stream",
          "name": "stdout",
          "text": [
            "Dataset is Loaded\n"
          ]
        }
      ]
    },
    {
      "cell_type": "markdown",
      "source": [
        "This code snippet creates a Pandas DataFrame (`df`) with two columns: 'speech' containing file paths and 'label' containing corresponding labels. It then encodes the labels numerically using `LabelEncoder` from scikit-learn and adds the encoded labels as a new column 'label_encoded'. Finally, it visualizes the distribution of labels using a count plot from Seaborn, showing the frequency of each label in the dataset."
      ],
      "metadata": {
        "id": "3pGdo07p0G7i"
      }
    },
    {
      "cell_type": "code",
      "source": [
        "df = pd.DataFrame()\n",
        "df['speech'] = paths\n",
        "df['label'] = labels\n",
        "\n",
        "# encoding\n",
        "le = LabelEncoder()\n",
        "df['label_encoded'] = le.fit_transform(df['label'])\n",
        "\n",
        "sns.countplot(data=df, x='label')"
      ],
      "metadata": {
        "colab": {
          "base_uri": "https://localhost:8080/",
          "height": 466
        },
        "id": "YjLIYpLq6XJ5",
        "outputId": "2edf5768-e9ea-4244-c479-f7ea18b801d4"
      },
      "execution_count": null,
      "outputs": [
        {
          "output_type": "execute_result",
          "data": {
            "text/plain": [
              "<Axes: xlabel='label', ylabel='count'>"
            ]
          },
          "metadata": {},
          "execution_count": 6
        },
        {
          "output_type": "display_data",
          "data": {
            "text/plain": [
              "<Figure size 640x480 with 1 Axes>"
            ],
            "image/png": "[encoded data removed]"
          },
          "metadata": {}
        }
      ]
    },
    {
      "cell_type": "markdown",
      "source": [
        "This code performs several tasks related to processing audio data for machine learning tasks:\n",
        "\n",
        "1. **Defining a Function to Extract MFCC Features (`extract_mfcc`)**:\n",
        "   - The function `extract_mfcc` takes a filename as input.\n",
        "   - It uses librosa library to load the audio file (`filename`) with a duration of 3 seconds starting from an offset of 0.5 seconds.\n",
        "   - It computes the Mel-frequency cepstral coefficients (MFCCs) of the audio signal using `librosa.feature.mfcc()`.\n",
        "   - The `n_mfcc` parameter specifies the number of MFCCs to return, which is set to 40 here.\n",
        "   - It takes the mean of the MFCCs along the time axis (`axis=0`).\n",
        "   - Finally, it returns the MFCC features.\n",
        "\n",
        "2. **Applying `extract_mfcc` Function to Each File Path**:\n",
        "   - The `apply()` function is used on the 'speech' column of the DataFrame (`df`) to apply the `extract_mfcc` function to each file path.\n",
        "   - This results in a Series of MFCC features for each audio file (`X_mfcc`).\n",
        "\n",
        "3. **Converting MFCC Features to a 3D Numpy Array**:\n",
        "   - The list comprehension `[x for x in X_mfcc]` is used to extract the MFCC features from the Series and store them as a list.\n",
        "   - Then, `np.array()` is used to convert this list into a Numpy array (`X`).\n",
        "   - `np.expand_dims(X, -1)` is used to add an extra dimension to the array to make it compatible with Convolutional Neural Network (CNN) input requirements.\n",
        "\n",
        "4. **Splitting Data into Training and Validation Sets**:\n",
        "   - `train_test_split()` from scikit-learn is used to split the data (`X` and `y`) into training and validation sets (`X_train`, `X_val`, `y_train`, `y_val`).\n",
        "   - The `test_size` parameter specifies the proportion of the dataset to include in the validation split (here, 20%).\n",
        "   - `random_state` is set for reproducibility.\n",
        "\n",
        "Overall, this code prepares the audio data by extracting MFCC features from the audio files, converting them into a suitable format for machine learning models, and splitting them into training and validation sets."
      ],
      "metadata": {
        "id": "lM3_pr3p1CMe"
      }
    },
    {
      "cell_type": "code",
      "source": [
        "def extract_mfcc(filename):\n",
        "    y, sr = librosa.load(filename, duration=3, offset=0.5)\n",
        "    mfcc = np.mean(librosa.feature.mfcc(y=y, sr=sr, n_mfcc=40).T, axis=0)\n",
        "    return mfcc"
      ],
      "metadata": {
        "id": "CNB9Q3Lo6ZXd"
      },
      "execution_count": null,
      "outputs": []
    },
    {
      "cell_type": "code",
      "source": [
        "X_mfcc = df['speech'].apply(lambda x: extract_mfcc(x))"
      ],
      "metadata": {
        "id": "mWIbFKtj1iLb"
      },
      "execution_count": null,
      "outputs": []
    },
    {
      "cell_type": "code",
      "source": [
        "X = [x for x in X_mfcc]\n",
        "X = np.array(X)\n",
        "X = np.expand_dims(X, -1)"
      ],
      "metadata": {
        "id": "RCfdeN8h6dYc"
      },
      "execution_count": null,
      "outputs": []
    },
    {
      "cell_type": "code",
      "source": [
        "y = df['label_encoded'].values"
      ],
      "metadata": {
        "id": "rZ61vJ0w6gBp"
      },
      "execution_count": null,
      "outputs": []
    },
    {
      "cell_type": "code",
      "source": [
        "X_train, X_val, y_train, y_val = train_test_split(X, y, test_size=0.2, random_state=42)"
      ],
      "metadata": {
        "id": "jqkMq81k6gl1"
      },
      "execution_count": null,
      "outputs": []
    },
    {
      "cell_type": "markdown",
      "source": [
        "# LSTM"
      ],
      "metadata": {
        "id": "vL8A9tJ-MJv3"
      }
    },
    {
      "cell_type": "code",
      "source": [
        "#architecture of model\n",
        "model = Sequential([\n",
        "    LSTM(256, return_sequences=True, input_shape=(40, 1)),\n",
        "    BatchNormalization(),\n",
        "    Dropout(0.5),\n",
        "    LSTM(128, return_sequences=True),\n",
        "    BatchNormalization(),\n",
        "    Dropout(0.5),\n",
        "    LSTM(64),\n",
        "    BatchNormalization(),\n",
        "    Dropout(0.5),\n",
        "    Dense(64, activation='relu'),\n",
        "    Dropout(0.5),\n",
        "    Dense(7, activation='softmax')\n",
        "])"
      ],
      "metadata": {
        "id": "owsqWT2E6iys"
      },
      "execution_count": null,
      "outputs": []
    },
    {
      "cell_type": "code",
      "source": [
        "model.compile(loss='sparse_categorical_crossentropy', optimizer='adam', metrics=['accuracy'])\n",
        "model.summary()"
      ],
      "metadata": {
        "colab": {
          "base_uri": "https://localhost:8080/"
        },
        "id": "_ltS2-n16lho",
        "outputId": "743155a1-4e66-4ebc-e5fe-6ba6d43f7789"
      },
      "execution_count": null,
      "outputs": [
        {
          "output_type": "stream",
          "name": "stdout",
          "text": [
            "Model: \"sequential\"\n",
            "_________________________________________________________________\n",
            " Layer (type)                Output Shape              Param #   \n",
            "=================================================================\n",
            " lstm (LSTM)                 (None, 40, 256)           264192    \n",
            "                                                                 \n",
            " batch_normalization (Batch  (None, 40, 256)           1024      \n",
            " Normalization)                                                  \n",
            "                                                                 \n",
            " dropout (Dropout)           (None, 40, 256)           0         \n",
            "                                                                 \n",
            " lstm_1 (LSTM)               (None, 40, 128)           197120    \n",
            "                                                                 \n",
            " batch_normalization_1 (Bat  (None, 40, 128)           512       \n",
            " chNormalization)                                                \n",
            "                                                                 \n",
            " dropout_1 (Dropout)         (None, 40, 128)           0         \n",
            "                                                                 \n",
            " lstm_2 (LSTM)               (None, 64)                49408     \n",
            "                                                                 \n",
            " batch_normalization_2 (Bat  (None, 64)                256       \n",
            " chNormalization)                                                \n",
            "                                                                 \n",
            " dropout_2 (Dropout)         (None, 64)                0         \n",
            "                                                                 \n",
            " dense (Dense)               (None, 64)                4160      \n",
            "                                                                 \n",
            " dropout_3 (Dropout)         (None, 64)                0         \n",
            "                                                                 \n",
            " dense_1 (Dense)             (None, 7)                 455       \n",
            "                                                                 \n",
            "=================================================================\n",
            "Total params: 517127 (1.97 MB)\n",
            "Trainable params: 516231 (1.97 MB)\n",
            "Non-trainable params: 896 (3.50 KB)\n",
            "_________________________________________________________________\n"
          ]
        }
      ]
    },
    {
      "cell_type": "code",
      "source": [
        "history = model.fit(X_train, y_train, validation_data=(X_val, y_val), epochs=5, batch_size=64)"
      ],
      "metadata": {
        "colab": {
          "base_uri": "https://localhost:8080/"
        },
        "id": "02ctTeo06piT",
        "outputId": "13b6f9b9-2229-4d6a-9cc9-4d4235982541"
      },
      "execution_count": null,
      "outputs": [
        {
          "output_type": "stream",
          "name": "stdout",
          "text": [
            "Epoch 1/5\n",
            "35/35 [==============================] - 14s 407ms/step - loss: 0.2219 - accuracy: 0.9388 - val_loss: 0.4034 - val_accuracy: 0.9089\n",
            "Epoch 2/5\n",
            "35/35 [==============================] - 14s 402ms/step - loss: 0.1967 - accuracy: 0.9455 - val_loss: 0.1255 - val_accuracy: 0.9607\n",
            "Epoch 3/5\n",
            "35/35 [==============================] - 14s 394ms/step - loss: 0.1545 - accuracy: 0.9558 - val_loss: 0.1085 - val_accuracy: 0.9714\n",
            "Epoch 4/5\n",
            "35/35 [==============================] - 14s 396ms/step - loss: 0.1224 - accuracy: 0.9688 - val_loss: 0.1661 - val_accuracy: 0.9518\n",
            "Epoch 5/5\n",
            "35/35 [==============================] - 13s 381ms/step - loss: 0.1472 - accuracy: 0.9634 - val_loss: 0.1274 - val_accuracy: 0.9696\n"
          ]
        }
      ]
    },
    {
      "cell_type": "code",
      "source": [
        "from sklearn.preprocessing import StandardScaler\n",
        "from keras.preprocessing.sequence import pad_sequences\n",
        "from keras.optimizers import Adam\n",
        "from keras.callbacks import LearningRateScheduler, EarlyStopping\n",
        "from keras.models import Sequential\n",
        "from keras.layers import LSTM, BatchNormalization, Dropout, Dense\n",
        "\n",
        "# reshaping the data\n",
        "X_train_reshaped = X_train.reshape((X_train.shape[0], -1))\n",
        "X_val_reshaped = X_val.reshape((X_val.shape[0], -1))\n",
        "\n",
        "# normalizing the data\n",
        "scaler = StandardScaler()\n",
        "X_train_scaled = scaler.fit_transform(X_train_reshaped)\n",
        "X_val_scaled = scaler.transform(X_val_reshaped)\n",
        "\n",
        "#reshape\n",
        "X_train_scaled = X_train_scaled.reshape(X_train.shape)\n",
        "X_val_scaled = X_val_scaled.reshape(X_val.shape)\n",
        "\n",
        "#pad sequence\n",
        "max_sequence_length = 40\n",
        "X_train_padded = pad_sequences(X_train_scaled, maxlen=max_sequence_length, padding='post', truncating='post')\n",
        "X_val_padded = pad_sequences(X_val_scaled, maxlen=max_sequence_length, padding='post', truncating='post')\n",
        "\n",
        "#architecture\n",
        "model = Sequential([\n",
        "    LSTM(256, return_sequences=True, input_shape=(max_sequence_length, 1)),\n",
        "    BatchNormalization(),\n",
        "    Dropout(0.5),\n",
        "    LSTM(128, return_sequences=True),\n",
        "    BatchNormalization(),\n",
        "    Dropout(0.5),\n",
        "    LSTM(64),\n",
        "    BatchNormalization(),\n",
        "    Dropout(0.5),\n",
        "    Dense(64, activation='relu'),\n",
        "    Dropout(0.5),\n",
        "    Dense(7, activation='softmax')\n",
        "])\n",
        "\n",
        "optimizer = Adam(learning_rate=0.0001)\n",
        "model.compile(loss='sparse_categorical_crossentropy', optimizer=optimizer, metrics=['accuracy'])\n",
        "model.summary()\n",
        "\n",
        "#learning rate scheduling\n",
        "def lr_schedule(epoch):\n",
        "    return 0.001 * 0.9 ** epoch\n",
        "\n",
        "#early Stopping\n",
        "early_stopping = EarlyStopping(monitor='val_loss', patience=3, restore_best_weights=True)\n",
        "\n",
        "history = model.fit(\n",
        "    X_train_padded, y_train,\n",
        "    validation_data=(X_val_padded, y_val),\n",
        "    epochs=50, batch_size=64,\n",
        "    callbacks=[LearningRateScheduler(lr_schedule), early_stopping]\n",
        ")\n",
        "\n",
        "val_loss, val_accuracy = model.evaluate(X_val_padded, y_val)\n",
        "print(f\"Validation Loss: {val_loss:.4f}, Validation Accuracy: {val_accuracy:.4f}\")\n",
        "\n",
        "train_loss, train_accuracy = model.evaluate(X_train_padded, y_train)\n",
        "print(f\"Training Loss: {train_loss:.4f}, Training Accuracy: {train_accuracy:.4f}\")\n"
      ],
      "metadata": {
        "colab": {
          "base_uri": "https://localhost:8080/"
        },
        "id": "SQOtvpq40Yhi",
        "outputId": "0c267ccb-181c-4afe-d8c0-a21d3d62665e"
      },
      "execution_count": null,
      "outputs": [
        {
          "output_type": "stream",
          "name": "stdout",
          "text": [
            "Model: \"sequential_16\"\n",
            "_________________________________________________________________\n",
            " Layer (type)                Output Shape              Param #   \n",
            "=================================================================\n",
            " lstm_9 (LSTM)               (None, 40, 256)           264192    \n",
            "                                                                 \n",
            " batch_normalization_36 (Ba  (None, 40, 256)           1024      \n",
            " tchNormalization)                                               \n",
            "                                                                 \n",
            " dropout_16 (Dropout)        (None, 40, 256)           0         \n",
            "                                                                 \n",
            " lstm_10 (LSTM)              (None, 40, 128)           197120    \n",
            "                                                                 \n",
            " batch_normalization_37 (Ba  (None, 40, 128)           512       \n",
            " tchNormalization)                                               \n",
            "                                                                 \n",
            " dropout_17 (Dropout)        (None, 40, 128)           0         \n",
            "                                                                 \n",
            " lstm_11 (LSTM)              (None, 64)                49408     \n",
            "                                                                 \n",
            " batch_normalization_38 (Ba  (None, 64)                256       \n",
            " tchNormalization)                                               \n",
            "                                                                 \n",
            " dropout_18 (Dropout)        (None, 64)                0         \n",
            "                                                                 \n",
            " dense_32 (Dense)            (None, 64)                4160      \n",
            "                                                                 \n",
            " dropout_19 (Dropout)        (None, 64)                0         \n",
            "                                                                 \n",
            " dense_33 (Dense)            (None, 7)                 455       \n",
            "                                                                 \n",
            "=================================================================\n",
            "Total params: 517127 (1.97 MB)\n",
            "Trainable params: 516231 (1.97 MB)\n",
            "Non-trainable params: 896 (3.50 KB)\n",
            "_________________________________________________________________\n",
            "Epoch 1/50\n",
            "35/35 [==============================] - 10s 46ms/step - loss: 1.8618 - accuracy: 0.3915 - val_loss: 1.8975 - val_accuracy: 0.2071 - lr: 0.0010\n",
            "Epoch 2/50\n",
            "35/35 [==============================] - 1s 14ms/step - loss: 1.1291 - accuracy: 0.5902 - val_loss: 1.8527 - val_accuracy: 0.2411 - lr: 9.0000e-04\n",
            "Epoch 3/50\n",
            "35/35 [==============================] - 0s 14ms/step - loss: 0.9574 - accuracy: 0.6616 - val_loss: 1.8732 - val_accuracy: 0.3232 - lr: 8.1000e-04\n",
            "Epoch 4/50\n",
            "35/35 [==============================] - 0s 14ms/step - loss: 0.8481 - accuracy: 0.7045 - val_loss: 1.8324 - val_accuracy: 0.3054 - lr: 7.2900e-04\n",
            "Epoch 5/50\n",
            "35/35 [==============================] - 0s 14ms/step - loss: 0.7356 - accuracy: 0.7451 - val_loss: 1.8037 - val_accuracy: 0.2911 - lr: 6.5610e-04\n",
            "Epoch 6/50\n",
            "35/35 [==============================] - 0s 14ms/step - loss: 0.7158 - accuracy: 0.7451 - val_loss: 1.7713 - val_accuracy: 0.3411 - lr: 5.9049e-04\n",
            "Epoch 7/50\n",
            "35/35 [==============================] - 0s 14ms/step - loss: 0.6494 - accuracy: 0.7710 - val_loss: 1.5402 - val_accuracy: 0.4500 - lr: 5.3144e-04\n",
            "Epoch 8/50\n",
            "35/35 [==============================] - 0s 14ms/step - loss: 0.6392 - accuracy: 0.7817 - val_loss: 1.4897 - val_accuracy: 0.4625 - lr: 4.7830e-04\n",
            "Epoch 9/50\n",
            "35/35 [==============================] - 1s 14ms/step - loss: 0.6239 - accuracy: 0.7982 - val_loss: 1.4768 - val_accuracy: 0.4607 - lr: 4.3047e-04\n",
            "Epoch 10/50\n",
            "35/35 [==============================] - 1s 16ms/step - loss: 0.5657 - accuracy: 0.8152 - val_loss: 1.1918 - val_accuracy: 0.5500 - lr: 3.8742e-04\n",
            "Epoch 11/50\n",
            "35/35 [==============================] - 1s 19ms/step - loss: 0.5843 - accuracy: 0.8107 - val_loss: 0.9123 - val_accuracy: 0.6589 - lr: 3.4868e-04\n",
            "Epoch 12/50\n",
            "35/35 [==============================] - 1s 19ms/step - loss: 0.5608 - accuracy: 0.8179 - val_loss: 0.9483 - val_accuracy: 0.6357 - lr: 3.1381e-04\n",
            "Epoch 13/50\n",
            "35/35 [==============================] - 1s 19ms/step - loss: 0.5432 - accuracy: 0.8277 - val_loss: 0.9011 - val_accuracy: 0.6893 - lr: 2.8243e-04\n",
            "Epoch 14/50\n",
            "35/35 [==============================] - 1s 21ms/step - loss: 0.5341 - accuracy: 0.8179 - val_loss: 0.6155 - val_accuracy: 0.7768 - lr: 2.5419e-04\n",
            "Epoch 15/50\n",
            "35/35 [==============================] - 1s 19ms/step - loss: 0.5296 - accuracy: 0.8250 - val_loss: 0.5208 - val_accuracy: 0.8036 - lr: 2.2877e-04\n",
            "Epoch 16/50\n",
            "35/35 [==============================] - 1s 19ms/step - loss: 0.5130 - accuracy: 0.8353 - val_loss: 0.4428 - val_accuracy: 0.8429 - lr: 2.0589e-04\n",
            "Epoch 17/50\n",
            "35/35 [==============================] - 1s 18ms/step - loss: 0.4856 - accuracy: 0.8464 - val_loss: 0.4130 - val_accuracy: 0.8554 - lr: 1.8530e-04\n",
            "Epoch 18/50\n",
            "35/35 [==============================] - 0s 14ms/step - loss: 0.5379 - accuracy: 0.8308 - val_loss: 0.4540 - val_accuracy: 0.8411 - lr: 1.6677e-04\n",
            "Epoch 19/50\n",
            "35/35 [==============================] - 0s 14ms/step - loss: 0.4967 - accuracy: 0.8357 - val_loss: 0.3885 - val_accuracy: 0.8679 - lr: 1.5009e-04\n",
            "Epoch 20/50\n",
            "35/35 [==============================] - 0s 14ms/step - loss: 0.4963 - accuracy: 0.8339 - val_loss: 0.4029 - val_accuracy: 0.8643 - lr: 1.3509e-04\n",
            "Epoch 21/50\n",
            "35/35 [==============================] - 0s 14ms/step - loss: 0.4975 - accuracy: 0.8344 - val_loss: 0.4023 - val_accuracy: 0.8714 - lr: 1.2158e-04\n",
            "Epoch 22/50\n",
            "35/35 [==============================] - 0s 14ms/step - loss: 0.5102 - accuracy: 0.8375 - val_loss: 0.3848 - val_accuracy: 0.8696 - lr: 1.0942e-04\n",
            "Epoch 23/50\n",
            "35/35 [==============================] - 0s 13ms/step - loss: 0.4786 - accuracy: 0.8438 - val_loss: 0.3857 - val_accuracy: 0.8696 - lr: 9.8477e-05\n",
            "Epoch 24/50\n",
            "35/35 [==============================] - 0s 14ms/step - loss: 0.4752 - accuracy: 0.8491 - val_loss: 0.3817 - val_accuracy: 0.8786 - lr: 8.8629e-05\n",
            "Epoch 25/50\n",
            "35/35 [==============================] - 0s 14ms/step - loss: 0.4647 - accuracy: 0.8549 - val_loss: 0.4386 - val_accuracy: 0.8411 - lr: 7.9766e-05\n",
            "Epoch 26/50\n",
            "35/35 [==============================] - 1s 14ms/step - loss: 0.4532 - accuracy: 0.8478 - val_loss: 0.3857 - val_accuracy: 0.8625 - lr: 7.1790e-05\n",
            "Epoch 27/50\n",
            "35/35 [==============================] - 0s 14ms/step - loss: 0.4761 - accuracy: 0.8402 - val_loss: 0.3846 - val_accuracy: 0.8768 - lr: 6.4611e-05\n",
            "18/18 [==============================] - 0s 7ms/step - loss: 0.3817 - accuracy: 0.8786\n",
            "Validation Loss: 0.3817, Validation Accuracy: 0.8786\n",
            "70/70 [==============================] - 0s 6ms/step - loss: 0.3110 - accuracy: 0.8960\n",
            "Training Loss: 0.3110, Training Accuracy: 0.8960\n"
          ]
        }
      ]
    },
    {
      "cell_type": "markdown",
      "source": [
        "# Random Forest"
      ],
      "metadata": {
        "id": "5MuLGiIMMNB3"
      }
    },
    {
      "cell_type": "markdown",
      "source": [
        "This code snippet trains a Random Forest classifier using the scikit-learn library and evaluates its performance on both the training and validation datasets. Here's a breakdown of each part:\n",
        "\n",
        "1. **Reshaping Data**:\n",
        "   - The data (`X_train` and `X_val`) are reshaped to a 2D array where each row represents a sample and each column represents a feature. This is done using the `reshape()` function. The `-1` in the shape indicates that the length in that dimension is inferred from the length of the array and the other dimensions.\n",
        "\n",
        "2. **Random Forest Classifier Initialization**:\n",
        "   - A Random Forest classifier is initialized with `n_estimators=1` and `random_state=42`.\n",
        "     - `n_estimators` specifies the number of decision trees in the forest. Here, it's set to 1, which means only one decision tree will be built. Typically, a higher number of trees leads to better performance, but it also increases computation time.\n",
        "     - `random_state` is set for reproducibility, ensuring that the results are consistent across different runs.\n",
        "\n",
        "3. **Model Training**:\n",
        "   - The Random Forest classifier is trained on the reshaped training data (`X_train_reshaped`) using the `fit()` method.\n",
        "\n",
        "4. **Making Predictions**:\n",
        "   - Predictions are made on both the training and validation datasets using the `predict()` method. The model predicts the class labels for each sample in the datasets.\n",
        "\n",
        "5. **Performance Evaluation**:\n",
        "   - The accuracy of the model is calculated for both the training and validation datasets using the `accuracy_score()` function from scikit-learn.\n",
        "   - The `classification_report()` function is used to generate a detailed classification report, including precision, recall, F1-score, and support for each class, for both the training and validation datasets.\n",
        "   - The results are printed to the console, showing the training and testing accuracy scores, as well as the classification reports.\n",
        "\n",
        "Overall, this code provides insights into the performance of the Random Forest classifier on the given dataset, helping to assess its effectiveness in classifying the audio data."
      ],
      "metadata": {
        "id": "WRwPpa-52ddU"
      }
    },
    {
      "cell_type": "code",
      "source": [
        "from sklearn.ensemble import RandomForestClassifier\n",
        "from sklearn.metrics import accuracy_score, classification_report\n",
        "\n",
        "X_train_reshaped = X_train.reshape(X_train.shape[0], -1)\n",
        "X_val_reshaped = X_val.reshape(X_val.shape[0], -1)\n",
        "\n",
        "#reshape\n",
        "rf_classifier = RandomForestClassifier(n_estimators=1, random_state=42)\n",
        "rf_classifier.fit(X_train_reshaped, y_train)\n",
        "\n",
        "y_train_pred = rf_classifier.predict(X_train_reshaped)\n",
        "y_test_pred = rf_classifier.predict(X_val_reshaped)\n",
        "\n",
        "accuracy_train = accuracy_score(y_train, y_train_pred)\n",
        "accuracy_test = accuracy_score(y_val, y_test_pred)\n",
        "\n",
        "print(f\"Training Accuracy: {accuracy_train:.2f}\")\n",
        "print(f\"Testing Accuracy: {accuracy_test:.2f}\")\n",
        "\n",
        "print(\"Training Classification Report:\\n\", classification_report(y_train, y_train_pred))\n",
        "print(\"Testing Classification Report:\\n\", classification_report(y_val, y_test_pred))"
      ],
      "metadata": {
        "colab": {
          "base_uri": "https://localhost:8080/"
        },
        "id": "RdiTK2V46T_7",
        "outputId": "8dc934b0-15b8-4298-d966-287483878ead"
      },
      "execution_count": null,
      "outputs": [
        {
          "output_type": "stream",
          "name": "stdout",
          "text": [
            "Training Accuracy: 0.95\n",
            "Testing Accuracy: 0.84\n",
            "Training Classification Report:\n",
            "               precision    recall  f1-score   support\n",
            "\n",
            "           0       0.94      0.93      0.94       323\n",
            "           1       0.93      0.94      0.94       318\n",
            "           2       0.97      0.98      0.97       323\n",
            "           3       0.94      0.91      0.93       328\n",
            "           4       0.97      0.98      0.98       333\n",
            "           5       0.91      0.93      0.92       304\n",
            "           6       0.97      0.95      0.96       311\n",
            "\n",
            "    accuracy                           0.95      2240\n",
            "   macro avg       0.95      0.95      0.95      2240\n",
            "weighted avg       0.95      0.95      0.95      2240\n",
            "\n",
            "Testing Classification Report:\n",
            "               precision    recall  f1-score   support\n",
            "\n",
            "           0       0.77      0.83      0.80        77\n",
            "           1       0.74      0.89      0.81        82\n",
            "           2       0.93      0.97      0.95        77\n",
            "           3       0.84      0.79      0.81        72\n",
            "           4       0.94      0.97      0.96        67\n",
            "           5       0.84      0.69      0.75        96\n",
            "           6       0.88      0.80      0.84        89\n",
            "\n",
            "    accuracy                           0.84       560\n",
            "   macro avg       0.85      0.85      0.85       560\n",
            "weighted avg       0.84      0.84      0.84       560\n",
            "\n"
          ]
        }
      ]
    },
    {
      "cell_type": "markdown",
      "source": [
        "# Random Forest with CNN"
      ],
      "metadata": {
        "id": "WSV5v3U4MS1o"
      }
    },
    {
      "cell_type": "markdown",
      "source": [
        "This code implements a Convolutional Neural Network (CNN) architecture for audio classification tasks, combined with a Random Forest classifier for the final predictions. Here's a breakdown:\n",
        "\n",
        "1. **Data Preprocessing**:\n",
        "   - The data `X` and `y` are split into training and testing sets using `train_test_split()` from scikit-learn, with a test size of 20%.\n",
        "   - The input data `X_train_cnn` and `X_test_cnn` are normalized using `StandardScaler()` to have a mean of 0 and a standard deviation of 1.\n",
        "   - The target labels `y_train_cnn` and `y_test_cnn` are one-hot encoded using `to_categorical()` from Keras.\n",
        "\n",
        "2. **CNN Architecture**:\n",
        "   - A CNN model is defined using Keras' Sequential API.\n",
        "   - Three convolutional layers (`Conv1D`) with increasing numbers of filters and kernel sizes of 5 are added, each followed by batch normalization and max pooling.\n",
        "   - Global average pooling is applied to reduce the spatial dimensions.\n",
        "   - Two fully connected layers (`Dense`) are added for classification, with the final layer having softmax activation for multi-class classification.\n",
        "   - The model is compiled with the sparse categorical cross-entropy loss function and the Adam optimizer.\n",
        "   - Early stopping is applied to prevent overfitting.\n",
        "\n",
        "3. **Training and Evaluation**:\n",
        "   - The model is trained for one epoch. During training, features are extracted from the CNN layers (`cnn_features_train` and `cnn_features_test`) and reshaped to be compatible with the Random Forest classifier.\n",
        "   - A Random Forest classifier with one estimator is trained using the extracted CNN features from the training set.\n",
        "   - Predictions are made on the testing set using the Random Forest classifier.\n",
        "   - The training and testing accuracies are computed and printed after each epoch.\n",
        "   - After the final epoch, a classification report is generated using `classification_report()` from scikit-learn, showing precision, recall, F1-score, and support for each class.\n",
        "\n",
        "4. **Return**:\n",
        "   - The trained CNN model is returned.\n",
        "\n",
        "Overall, this code combines the feature extraction capabilities of CNNs with the interpretability and robustness of Random Forests for audio classification tasks, leveraging the strengths of both approaches."
      ],
      "metadata": {
        "id": "mL_Hlkrd2uKe"
      }
    },
    {
      "cell_type": "code",
      "source": [
        "from sklearn.svm import SVC\n",
        "from sklearn.ensemble import RandomForestClassifier\n",
        "from sklearn.metrics import accuracy_score, classification_report\n",
        "from sklearn.model_selection import train_test_split\n",
        "from keras.models import Sequential\n",
        "from keras.layers import Conv1D, MaxPooling1D, GlobalAveragePooling1D, Dense\n",
        "from keras.utils import to_categorical\n",
        "from sklearn.preprocessing import StandardScaler\n",
        "from keras.callbacks import EarlyStopping\n",
        "from keras.layers import BatchNormalization\n",
        "from keras.regularizers import l2\n",
        "\n",
        "X_train_cnn, X_test_cnn, y_train_cnn, y_test_cnn = train_test_split(X, y, test_size=0.2, random_state=42)\n",
        "\n",
        "#normalize\n",
        "scaler = StandardScaler()\n",
        "X_train_cnn = scaler.fit_transform(X_train_cnn.reshape((len(X_train_cnn), -1))).reshape(X_train_cnn.shape)\n",
        "X_test_cnn = scaler.transform(X_test_cnn.reshape((len(X_test_cnn), -1))).reshape(X_test_cnn.shape)\n",
        "\n",
        "#one hot encoding\n",
        "y_train_cnn_one_hot = to_categorical(y_train_cnn)\n",
        "y_test_cnn_one_hot = to_categorical(y_test_cnn)\n",
        "\n",
        "#CNN architecture\n",
        "def train_cnn(X_train, y_train, X_test, y_test, input_shape, num_classes, epochs=5, batch_size=32):\n",
        "    model = Sequential()\n",
        "    model.add(Conv1D(128, 5, activation='relu', input_shape=input_shape, kernel_regularizer=l2(0.01)))\n",
        "    model.add(BatchNormalization())\n",
        "    model.add(MaxPooling1D(2))\n",
        "    model.add(Conv1D(256, 5, activation='relu', kernel_regularizer=l2(0.01)))\n",
        "    model.add(BatchNormalization())\n",
        "    model.add(MaxPooling1D(2))\n",
        "    model.add(Conv1D(512, 5, activation='relu', kernel_regularizer=l2(0.01)))\n",
        "    model.add(BatchNormalization())\n",
        "    model.add(GlobalAveragePooling1D())\n",
        "    model.add(Dense(256, activation='relu', kernel_regularizer=l2(0.01)))\n",
        "    model.add(Dense(num_classes, activation='softmax'))\n",
        "\n",
        "    model.compile(loss='sparse_categorical_crossentropy', optimizer='adam', metrics=['accuracy'])\n",
        "\n",
        "    #early stopping\n",
        "    early_stopping = EarlyStopping(monitor='val_loss', patience=3, restore_best_weights=True)\n",
        "\n",
        "    for epoch in range(epochs):\n",
        "        print(f\"Epoch {epoch + 1}/{epochs}\")\n",
        "        history = model.fit(X_train, y_train, epochs=1, batch_size=batch_size, verbose=1, validation_split=0.2, callbacks=[early_stopping])\n",
        "        cnn_features_train = model.predict(X_train)\n",
        "        cnn_features_test = model.predict(X_test)\n",
        "\n",
        "        #reshape\n",
        "        cnn_features_train = cnn_features_train.reshape((len(X_train), -1))\n",
        "        cnn_features_test = cnn_features_test.reshape((len(X_test), -1))\n",
        "\n",
        "        rf_classifier = RandomForestClassifier(n_estimators=1, random_state=42)\n",
        "        rf_classifier.fit(cnn_features_train, y_train)\n",
        "\n",
        "        rf_predictions = rf_classifier.predict(cnn_features_test)\n",
        "\n",
        "        accuracy_train = accuracy_score(y_train, rf_classifier.predict(cnn_features_train))\n",
        "        accuracy_test = accuracy_score(y_test, rf_predictions)\n",
        "        print(f\"Training Accuracy: {accuracy_train:.2f}, Testing Accuracy: {accuracy_test:.2f}\")\n",
        "\n",
        "\n",
        "    print(\"Final Classification Report:\\n\", classification_report(y_test, rf_predictions))\n",
        "\n",
        "    return model\n",
        "\n",
        "input_shape_cnn = (X_train_cnn.shape[1], X_train_cnn.shape[2])\n",
        "num_classes_cnn = len(np.unique(y))\n",
        "cnn_model = train_cnn(X_train_cnn, y_train_cnn, X_test_cnn, y_test_cnn, input_shape_cnn, num_classes_cnn, epochs=1, batch_size=32)\n"
      ],
      "metadata": {
        "colab": {
          "base_uri": "https://localhost:8080/"
        },
        "id": "bk6jZPjOxhxi",
        "outputId": "4d4efce8-c268-4e3b-9044-3c8fff430c16"
      },
      "execution_count": null,
      "outputs": [
        {
          "output_type": "stream",
          "name": "stdout",
          "text": [
            "Epoch 1/1\n",
            "56/56 [==============================] - 9s 14ms/step - loss: 6.6568 - accuracy: 0.9342 - val_loss: 5.9772 - val_accuracy: 0.2857\n",
            "70/70 [==============================] - 0s 2ms/step\n",
            "18/18 [==============================] - 0s 12ms/step\n",
            "Training Accuracy: 0.98, Testing Accuracy: 0.93\n",
            "Final Classification Report:\n",
            "               precision    recall  f1-score   support\n",
            "\n",
            "           0       0.91      0.90      0.90        77\n",
            "           1       0.87      0.91      0.89        82\n",
            "           2       0.94      0.95      0.94        77\n",
            "           3       0.88      0.94      0.91        72\n",
            "           4       0.99      0.99      0.99        67\n",
            "           5       0.94      0.84      0.89        96\n",
            "           6       0.97      0.98      0.97        89\n",
            "\n",
            "    accuracy                           0.93       560\n",
            "   macro avg       0.93      0.93      0.93       560\n",
            "weighted avg       0.93      0.93      0.93       560\n",
            "\n"
          ]
        }
      ]
    },
    {
      "cell_type": "markdown",
      "source": [
        "# SVM"
      ],
      "metadata": {
        "id": "rjcJcUMQMZ0w"
      }
    },
    {
      "cell_type": "markdown",
      "source": [
        "This code performs Support Vector Machine (SVM) classification using scikit-learn. Here's a breakdown:\n",
        "\n",
        "1. **Importing Libraries**:\n",
        "   - The code imports necessary libraries including `SVC` for Support Vector Classification, `accuracy_score` and `classification_report` for evaluation metrics, and `train_test_split` for splitting the dataset.\n",
        "\n",
        "2. **Reshaping Data**:\n",
        "   - The data (`X_train` and `X_val`) are reshaped to a 2D array where each row represents a sample and each column represents a feature. This reshaping is necessary because SVM in scikit-learn expects 2D input.\n",
        "   - `X_train_reshaped` and `X_val_reshaped` are the reshaped training and validation sets, respectively.\n",
        "\n",
        "3. **Splitting Data**:\n",
        "   - The training data (`X_train_reshaped` and `y_train`) are further split into training and validation sets using `train_test_split()`.\n",
        "   - `X_train_split`, `X_val_split`, `y_train_split`, and `y_val_split` are the resulting training and validation sets.\n",
        "\n",
        "4. **SVM Classifier Initialization**:\n",
        "   - An SVM classifier (`SVC`) is initialized with parameters:\n",
        "     - `kernel='rbf'`: Specifies the kernel function. 'rbf' stands for radial basis function kernel, which is commonly used for non-linear classification tasks.\n",
        "     - `C=1.0`: Regularization parameter. Larger values of `C` correspond to less regularization, allowing the model to fit the training data more closely.\n",
        "     - `random_state=42`: Set for reproducibility.\n",
        "\n",
        "5. **Model Training**:\n",
        "   - The SVM classifier is trained on the training data (`X_train_split`, `y_train_split`) using the `fit()` method.\n",
        "\n",
        "6. **Making Predictions**:\n",
        "   - Predictions are made on both the training and validation sets using the `predict()` method.\n",
        "\n",
        "7. **Performance Evaluation**:\n",
        "   - The accuracy of the model is calculated for both the training and validation sets using the `accuracy_score()` function.\n",
        "   - The classification report, including precision, recall, F1-score, and support, is generated using the `classification_report()` function.\n",
        "   - The training and validation accuracies, along with the classification report for the validation set, are printed to the console.\n",
        "\n",
        "This code essentially trains an SVM classifier, evaluates its performance on both training and validation data, and provides insights into its classification performance using accuracy and a detailed classification report."
      ],
      "metadata": {
        "id": "AogKxHeK36Ho"
      }
    },
    {
      "cell_type": "code",
      "source": [
        "from sklearn.svm import SVC\n",
        "from sklearn.metrics import accuracy_score, classification_report\n",
        "from sklearn.model_selection import train_test_split\n",
        "#reshape\n",
        "X_train_reshaped = X_train.reshape(X_train.shape[0], -1)\n",
        "X_val_reshaped = X_val.reshape(X_val.shape[0], -1)\n",
        "\n",
        "X_train_split, X_val_split, y_train_split, y_val_split = train_test_split(X_train_reshaped, y_train, test_size=0.2, random_state=42)\n",
        "\n",
        "svm_classifier = SVC(kernel='rbf', C=1.0, random_state=42)\n",
        "\n",
        "svm_classifier.fit(X_train_split, y_train_split)\n",
        "\n",
        "y_train_pred = svm_classifier.predict(X_train_split)\n",
        "y_val_pred = svm_classifier.predict(X_val_split)\n",
        "\n",
        "train_accuracy = accuracy_score(y_train_split, y_train_pred)\n",
        "print(f\"Training Accuracy: {train_accuracy:.2f}\")\n",
        "\n",
        "val_accuracy = accuracy_score(y_val_split, y_val_pred)\n",
        "print(f\"Validation Accuracy: {val_accuracy:.2f}\")\n",
        "\n",
        "print(\"Classification Report (Validation Set):\\n\", classification_report(y_val_split, y_val_pred))\n"
      ],
      "metadata": {
        "colab": {
          "base_uri": "https://localhost:8080/"
        },
        "id": "3QVBjrSYqZwz",
        "outputId": "64e0d73a-9c12-46ad-8d60-ca5eab0d11e5"
      },
      "execution_count": null,
      "outputs": [
        {
          "output_type": "stream",
          "name": "stdout",
          "text": [
            "Training Accuracy: 0.86\n",
            "Validation Accuracy: 0.87\n",
            "Classification Report (Validation Set):\n",
            "               precision    recall  f1-score   support\n",
            "\n",
            "           0       0.80      0.95      0.87        62\n",
            "           1       0.69      0.86      0.76        69\n",
            "           2       1.00      0.98      0.99        58\n",
            "           3       0.93      0.66      0.77        56\n",
            "           4       1.00      0.97      0.99        70\n",
            "           5       0.88      0.69      0.77        67\n",
            "           6       0.90      0.97      0.93        66\n",
            "\n",
            "    accuracy                           0.87       448\n",
            "   macro avg       0.88      0.87      0.87       448\n",
            "weighted avg       0.88      0.87      0.87       448\n",
            "\n"
          ]
        }
      ]
    },
    {
      "cell_type": "markdown",
      "source": [
        "# SVM with CNN"
      ],
      "metadata": {
        "id": "7cwurrZaNJFH"
      }
    },
    {
      "cell_type": "markdown",
      "source": [
        "This code implements a pipeline where a Convolutional Neural Network (CNN) is used for feature extraction, and the extracted features are then fed into a Support Vector Machine (SVM) classifier for classification. Here's a breakdown:\n",
        "\n",
        "1. **Importing Libraries**:\n",
        "   - The code imports necessary libraries including `SVC` for Support Vector Classification, `accuracy_score` and `classification_report` for evaluation metrics, `train_test_split` for splitting the dataset, and various components from Keras for building the CNN.\n",
        "\n",
        "2. **Data Preprocessing**:\n",
        "   - The data (`X` and `y`) are split into training and testing sets using `train_test_split()`.\n",
        "   - The input data (`X_train_cnn` and `X_test_cnn`) are normalized using `StandardScaler()`.\n",
        "\n",
        "3. **One-Hot Encoding**:\n",
        "   - The target labels (`y_train_cnn` and `y_test_cnn`) are one-hot encoded using `to_categorical()` from Keras.\n",
        "\n",
        "4. **CNN Architecture**:\n",
        "   - A CNN model is defined using Keras' Sequential API.\n",
        "   - Three convolutional layers (`Conv1D`) with increasing numbers of filters and kernel sizes of 5 are added, each followed by batch normalization and max pooling.\n",
        "   - Global average pooling is applied to reduce the spatial dimensions.\n",
        "   - Two fully connected layers (`Dense`) are added for classification, with the final layer having softmax activation for multi-class classification.\n",
        "   - The model is compiled with the sparse categorical cross-entropy loss function and the Adam optimizer.\n",
        "   - Early stopping is applied to prevent overfitting.\n",
        "\n",
        "5. **Training and Feature Extraction**:\n",
        "   - The model is trained for a specified number of epochs. During training, features are extracted from the CNN layers (`cnn_features_train` and `cnn_features_test`) and reshaped to be compatible with the SVM classifier.\n",
        "   - An SVM classifier (`SVC`) with radial basis function (RBF) kernel is trained using the extracted CNN features from the training set.\n",
        "   - Predictions are made on the testing set using the SVM classifier.\n",
        "\n",
        "6. **Performance Evaluation**:\n",
        "   - The accuracy of the model is calculated for the testing set using the `accuracy_score()` function.\n",
        "   - The classification report, including precision, recall, F1-score, and support, is generated using the `classification_report()` function.\n",
        "\n",
        "7. **Return**:\n",
        "   - The trained CNN model is returned.\n",
        "\n",
        "This approach combines the feature extraction capabilities of CNNs with the powerful classification capabilities of SVMs, allowing for potentially improved performance in classification tasks."
      ],
      "metadata": {
        "id": "6dOFuJ8Z4JJx"
      }
    },
    {
      "cell_type": "code",
      "source": [
        "from sklearn.svm import SVC\n",
        "from sklearn.metrics import accuracy_score, classification_report\n",
        "from sklearn.model_selection import train_test_split\n",
        "from keras.models import Sequential\n",
        "from keras.layers import Conv1D, MaxPooling1D, GlobalAveragePooling1D, Dense\n",
        "from keras.utils import to_categorical\n",
        "from sklearn.preprocessing import StandardScaler\n",
        "from keras.callbacks import EarlyStopping\n",
        "from sklearn.preprocessing import StandardScaler\n",
        "from keras.layers import BatchNormalization\n",
        "from keras.regularizers import l2\n",
        "\n",
        "X_train_cnn, X_test_cnn, y_train_cnn, y_test_cnn = train_test_split(X, y, test_size=0.2, random_state=42)\n",
        "\n",
        "#normalize\n",
        "scaler = StandardScaler()\n",
        "X_train_cnn = scaler.fit_transform(X_train_cnn.reshape((len(X_train_cnn), -1))).reshape(X_train_cnn.shape)\n",
        "X_test_cnn = scaler.transform(X_test_cnn.reshape((len(X_test_cnn), -1))).reshape(X_test_cnn.shape)\n",
        "\n",
        "#one-hot-encoding\n",
        "y_train_cnn_one_hot = to_categorical(y_train_cnn)\n",
        "y_test_cnn_one_hot = to_categorical(y_test_cnn)\n",
        "\n",
        "#CNN\n",
        "def train_cnn(X_train, y_train, X_test, y_test, input_shape, num_classes, epochs=2, batch_size=32):\n",
        "    model = Sequential()\n",
        "    model.add(Conv1D(128, 5, activation='relu', input_shape=input_shape, kernel_regularizer=l2(0.01)))\n",
        "    model.add(BatchNormalization())\n",
        "    model.add(MaxPooling1D(2))\n",
        "    model.add(Conv1D(256, 5, activation='relu', kernel_regularizer=l2(0.01)))\n",
        "    model.add(BatchNormalization())\n",
        "    model.add(MaxPooling1D(2))\n",
        "    model.add(Conv1D(512, 5, activation='relu', kernel_regularizer=l2(0.01)))\n",
        "    model.add(BatchNormalization())\n",
        "    model.add(GlobalAveragePooling1D())\n",
        "    model.add(Dense(256, activation='relu', kernel_regularizer=l2(0.01)))\n",
        "    model.add(Dense(num_classes, activation='softmax'))\n",
        "\n",
        "    model.compile(loss='sparse_categorical_crossentropy', optimizer='adam', metrics=['accuracy'])\n",
        "\n",
        "    early_stopping = EarlyStopping(monitor='val_loss', patience=3, restore_best_weights=True)\n",
        "\n",
        "    for epoch in range(epochs):\n",
        "        print(f\"Epoch {epoch + 1}/{epochs}\")\n",
        "\n",
        "        history = model.fit(X_train, y_train, epochs=1, batch_size=batch_size, verbose=1, validation_split=0.2, callbacks=[early_stopping])\n",
        "\n",
        "        cnn_features_train = model.predict(X_train)\n",
        "        cnn_features_test = model.predict(X_test)\n",
        "\n",
        "        cnn_features_train = cnn_features_train.reshape((len(X_train), -1))\n",
        "        cnn_features_test = cnn_features_test.reshape((len(X_test), -1))\n",
        "\n",
        "        svm_classifier = SVC(kernel='rbf', C=1.0, random_state=42)\n",
        "\n",
        "        svm_classifier.fit(cnn_features_train, y_train)\n",
        "\n",
        "        svm_predictions = svm_classifier.predict(cnn_features_test)\n",
        "\n",
        "        accuracy_train = history.history['accuracy'][0]\n",
        "        accuracy_test = accuracy_score(y_test, svm_predictions)\n",
        "        print(f\"Training Accuracy: {accuracy_train:.2f}, Testing Accuracy: {accuracy_test:.2f}\")\n",
        "\n",
        "    print(\"Final Classification Report:\\n\", classification_report(y_test, svm_predictions))\n",
        "\n",
        "    return model\n",
        "\n",
        "input_shape_cnn = (X_train_cnn.shape[1], X_train_cnn.shape[2])\n",
        "num_classes_cnn = len(np.unique(y))\n",
        "cnn_model = train_cnn(X_train_cnn, y_train_cnn, X_test_cnn, y_test_cnn, input_shape_cnn, num_classes_cnn, epochs=2, batch_size=32)"
      ],
      "metadata": {
        "colab": {
          "base_uri": "https://localhost:8080/"
        },
        "id": "i_Ta60AHNIeL",
        "outputId": "e1e50330-bde1-4fa4-fdcf-dd9ec0e93b7f"
      },
      "execution_count": null,
      "outputs": [
        {
          "output_type": "stream",
          "name": "stdout",
          "text": [
            "Epoch 1/2\n",
            "56/56 [==============================] - 3s 11ms/step - loss: 6.5259 - accuracy: 0.9358 - val_loss: 6.0255 - val_accuracy: 0.1473\n",
            "70/70 [==============================] - 0s 2ms/step\n",
            "18/18 [==============================] - 0s 2ms/step\n",
            "Training Accuracy: 0.94, Testing Accuracy: 0.93\n",
            "Epoch 2/2\n",
            "56/56 [==============================] - 1s 10ms/step - loss: 2.5696 - accuracy: 0.9749 - val_loss: 3.6523 - val_accuracy: 0.2991\n",
            "70/70 [==============================] - 0s 3ms/step\n",
            "18/18 [==============================] - 0s 3ms/step\n",
            "Training Accuracy: 0.97, Testing Accuracy: 0.94\n",
            "Final Classification Report:\n",
            "               precision    recall  f1-score   support\n",
            "\n",
            "           0       1.00      0.92      0.96        77\n",
            "           1       0.88      0.91      0.90        82\n",
            "           2       0.96      0.97      0.97        77\n",
            "           3       0.93      0.99      0.96        72\n",
            "           4       0.90      0.90      0.90        67\n",
            "           5       0.98      0.95      0.96        96\n",
            "           6       0.92      0.93      0.93        89\n",
            "\n",
            "    accuracy                           0.94       560\n",
            "   macro avg       0.94      0.94      0.94       560\n",
            "weighted avg       0.94      0.94      0.94       560\n",
            "\n"
          ]
        }
      ]
    },
    {
      "cell_type": "markdown",
      "source": [
        "# CNN"
      ],
      "metadata": {
        "id": "RtS2OTeLO0p3"
      }
    },
    {
      "cell_type": "markdown",
      "source": [
        "This code snippet trains a Convolutional Neural Network (CNN) for a classification task using Keras and evaluates its performance. Here's a breakdown:\n",
        "\n",
        "1. **Importing Libraries**:\n",
        "   - The code imports necessary libraries including `train_test_split` for splitting the dataset, `Sequential` for defining the model architecture, various layers (`Conv1D`, `MaxPooling1D`, `GlobalAveragePooling1D`, `Dense`, `BatchNormalization`) for building the CNN, and `StandardScaler` for data normalization.\n",
        "   - It also imports `accuracy_score` and `classification_report` for evaluation metrics, and `numpy` for array manipulation.\n",
        "\n",
        "2. **Data Preprocessing**:\n",
        "   - The data (`X` and `y`) are split into training and testing sets using `train_test_split()`.\n",
        "   - The input data (`X_train_cnn` and `X_test_cnn`) are normalized using `StandardScaler()`.\n",
        "\n",
        "3. **CNN Architecture**:\n",
        "   - A CNN model is defined using Keras' Sequential API.\n",
        "   - Three convolutional layers (`Conv1D`) with increasing numbers of filters and kernel sizes of 5 are added, each followed by batch normalization and max pooling.\n",
        "   - Global average pooling is applied to reduce the spatial dimensions.\n",
        "   - Two fully connected layers (`Dense`) are added for classification, with the final layer having softmax activation for multi-class classification.\n",
        "   - The model is compiled with the sparse categorical cross-entropy loss function and the Adam optimizer.\n",
        "\n",
        "4. **Training**:\n",
        "   - The model is trained using `model.fit()` with the training data (`X_train_cnn` and `y_train_cnn`) for a specified number of epochs and batch size.\n",
        "   - Training loss, training accuracy, validation loss, and validation accuracy are printed to monitor training progress.\n",
        "\n",
        "5. **Prediction**:\n",
        "   - Predictions are made on the test set using `model.predict()` to get probability scores for each class.\n",
        "   - The class with the highest probability is selected as the predicted class label.\n",
        "\n",
        "6. **Performance Evaluation**:\n",
        "   - The accuracy of the model is calculated using `accuracy_score()` from scikit-learn.\n",
        "   - The classification report, including precision, recall, F1-score, and support, is generated using `classification_report()`.\n",
        "\n",
        "This code provides a complete pipeline for training a CNN model, evaluating its performance, and obtaining detailed performance metrics for classification tasks."
      ],
      "metadata": {
        "id": "_0r84jiO4MtW"
      }
    },
    {
      "cell_type": "code",
      "source": [
        "from sklearn.metrics import accuracy_score, classification_report\n",
        "from sklearn.model_selection import train_test_split\n",
        "from keras.models import Sequential\n",
        "from keras.layers import Conv1D, MaxPooling1D, GlobalAveragePooling1D, Dense, BatchNormalization\n",
        "from sklearn.preprocessing import StandardScaler\n",
        "import numpy as np\n",
        "\n",
        "X_train_cnn, X_test_cnn, y_train_cnn, y_test_cnn = train_test_split(X, y, test_size=0.2, random_state=42)\n",
        "\n",
        "#normalize\n",
        "scaler = StandardScaler()\n",
        "X_train_cnn = scaler.fit_transform(X_train_cnn.reshape((len(X_train_cnn), -1))).reshape(X_train_cnn.shape)\n",
        "X_test_cnn = scaler.transform(X_test_cnn.reshape((len(X_test_cnn), -1))).reshape(X_test_cnn.shape)\n",
        "\n",
        "#CNN\n",
        "def train_cnn(X_train, y_train, X_test, y_test, input_shape, num_classes, epochs=5, batch_size=32):\n",
        "    model = Sequential()\n",
        "    model.add(Conv1D(128, 5, activation='relu', input_shape=input_shape))\n",
        "    model.add(BatchNormalization())\n",
        "    model.add(MaxPooling1D(2))\n",
        "    model.add(Conv1D(256, 5, activation='relu'))\n",
        "    model.add(BatchNormalization())\n",
        "    model.add(MaxPooling1D(2))\n",
        "    model.add(Conv1D(512, 5, activation='relu'))\n",
        "    model.add(BatchNormalization())\n",
        "    model.add(GlobalAveragePooling1D())\n",
        "    model.add(Dense(256, activation='relu'))\n",
        "    model.add(Dense(num_classes, activation='softmax'))\n",
        "\n",
        "    model.compile(loss='sparse_categorical_crossentropy', optimizer='adam', metrics=['accuracy'])\n",
        "\n",
        "    history = model.fit(X_train, y_train, epochs=epochs, batch_size=batch_size, verbose=1, validation_data=(X_test, y_test))\n",
        "\n",
        "    print(\"Training Loss:\", history.history['loss'])\n",
        "    print(\"Training Accuracy:\", history.history['accuracy'])\n",
        "    print(\"Validation Loss:\", history.history['val_loss'])\n",
        "    print(\"Validation Accuracy:\", history.history['val_accuracy'])\n",
        "\n",
        "    return model\n",
        "\n",
        "input_shape_cnn = (X_train_cnn.shape[1], X_train_cnn.shape[2])\n",
        "num_classes_cnn = len(np.unique(y))\n",
        "cnn_model = train_cnn(X_train_cnn, y_train_cnn, X_test_cnn, y_test_cnn, input_shape_cnn, num_classes_cnn, epochs=5, batch_size=32)\n",
        "\n",
        "y_pred_prob_cnn = cnn_model.predict(X_test_cnn)\n",
        "\n",
        "y_pred_cnn = np.argmax(y_pred_prob_cnn, axis=1)\n",
        "\n",
        "accuracy_cnn = accuracy_score(y_test_cnn, y_pred_cnn)\n",
        "print(f\"Accuracy: {accuracy_cnn:.2f}\")\n",
        "\n",
        "print(\"Classification Report:\\n\", classification_report(y_test_cnn, y_pred_cnn))"
      ],
      "metadata": {
        "colab": {
          "base_uri": "https://localhost:8080/"
        },
        "id": "XDKpxl2IOzNl",
        "outputId": "dff0e52b-2c02-46bc-e125-48cc19b56eba"
      },
      "execution_count": null,
      "outputs": [
        {
          "output_type": "stream",
          "name": "stdout",
          "text": [
            "Epoch 1/5\n",
            "70/70 [==============================] - 5s 12ms/step - loss: 0.1653 - accuracy: 0.9433 - val_loss: 2.2901 - val_accuracy: 0.2250\n",
            "Epoch 2/5\n",
            "70/70 [==============================] - 1s 10ms/step - loss: 0.0528 - accuracy: 0.9844 - val_loss: 3.2137 - val_accuracy: 0.2661\n",
            "Epoch 3/5\n",
            "70/70 [==============================] - 1s 11ms/step - loss: 0.0194 - accuracy: 0.9933 - val_loss: 2.8083 - val_accuracy: 0.2893\n",
            "Epoch 4/5\n",
            "70/70 [==============================] - 1s 10ms/step - loss: 0.0257 - accuracy: 0.9929 - val_loss: 1.0230 - val_accuracy: 0.6500\n",
            "Epoch 5/5\n",
            "70/70 [==============================] - 1s 10ms/step - loss: 0.0081 - accuracy: 0.9978 - val_loss: 0.6100 - val_accuracy: 0.8054\n",
            "Training Loss: [0.16530902683734894, 0.05282922834157944, 0.019363457337021828, 0.025698989629745483, 0.008131302893161774]\n",
            "Training Accuracy: [0.9433035850524902, 0.984375, 0.9933035969734192, 0.9928571581840515, 0.9977678656578064]\n",
            "Validation Loss: [2.2901499271392822, 3.2137393951416016, 2.808310031890869, 1.0230239629745483, 0.6099675297737122]\n",
            "Validation Accuracy: [0.22499999403953552, 0.2660714387893677, 0.28928571939468384, 0.6499999761581421, 0.8053571581840515]\n",
            "18/18 [==============================] - 0s 3ms/step\n",
            "Accuracy: 0.81\n",
            "Classification Report:\n",
            "               precision    recall  f1-score   support\n",
            "\n",
            "           0       0.97      0.95      0.96        77\n",
            "           1       0.56      1.00      0.72        82\n",
            "           2       1.00      0.38      0.55        77\n",
            "           3       0.72      0.99      0.83        72\n",
            "           4       1.00      0.64      0.78        67\n",
            "           5       0.91      0.89      0.90        96\n",
            "           6       0.92      0.76      0.83        89\n",
            "\n",
            "    accuracy                           0.81       560\n",
            "   macro avg       0.87      0.80      0.80       560\n",
            "weighted avg       0.87      0.81      0.80       560\n",
            "\n"
          ]
        }
      ]
    },
    {
      "cell_type": "code",
      "source": [
        "import matplotlib.pyplot as plt\n",
        "import numpy as np\n",
        "\n",
        "# Data\n",
        "labels = ['LSTM', 'SVM', 'SVM_CNN', 'RF', 'RF_CNN', 'CNN']\n",
        "accuracy_values = [[98, 97], [95, 84], [98,93], [86, 87], [97, 94], [99.7, 81]]\n",
        "\n",
        "accuracy_values1 = [item[0] for item in accuracy_values]\n",
        "accuracy_values2 = [item[1] for item in accuracy_values]\n",
        "\n",
        "bar_width = 0.35\n",
        "index = np.arange(len(labels))\n",
        "\n",
        "fig, ax = plt.subplots()\n",
        "bar1 = ax.bar(index, accuracy_values1, bar_width, label='Training Accuracy')\n",
        "bar2 = ax.bar(index + bar_width, accuracy_values2, bar_width, label='Testing Accuracy')\n",
        "\n",
        "ax.set_xlabel('Models')\n",
        "ax.set_ylabel('Accuracy')\n",
        "ax.set_title('Accuracy Comparison')\n",
        "ax.set_xticks(index + bar_width / 2)\n",
        "ax.set_xticklabels(labels)\n",
        "ax.legend()\n",
        "\n",
        "plt.show()\n"
      ],
      "metadata": {
        "id": "ANjKMMUVSgoK",
        "colab": {
          "base_uri": "https://localhost:8080/"
        },
        "outputId": "5e292dd6-af3a-4bf3-e3cb-b956ed22bb71"
      },
      "execution_count": null,
      "outputs": [
        {
          "output_type": "display_data",
          "data": {
            "text/plain": [
              "<Figure size 640x480 with 1 Axes>"
            ],
            "image/png": "[encoded data removed]"
          },
          "metadata": {}
        }
      ]
    }
  ]
}